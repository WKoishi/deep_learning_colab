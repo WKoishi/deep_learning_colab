{
  "nbformat": 4,
  "nbformat_minor": 0,
  "metadata": {
    "colab": {
      "name": "mobilenet_v2.ipynb",
      "provenance": [],
      "collapsed_sections": [],
      "mount_file_id": "1X3Ce0mJHsnHROjPFAP5y-iZ5k6vS77Rt",
      "authorship_tag": "ABX9TyPEqy5mO12//kgi66bi5lf6",
      "include_colab_link": true
    },
    "kernelspec": {
      "name": "python3",
      "display_name": "Python 3"
    },
    "language_info": {
      "name": "python"
    },
    "accelerator": "GPU"
  },
  "cells": [
    {
      "cell_type": "markdown",
      "metadata": {
        "id": "view-in-github",
        "colab_type": "text"
      },
      "source": [
        "<a href=\"https://colab.research.google.com/github/WKoishi/deep_learning_colab/blob/main/mobilenet_v2.ipynb\" target=\"_parent\"><img src=\"https://colab.research.google.com/assets/colab-badge.svg\" alt=\"Open In Colab\"/></a>"
      ]
    },
    {
      "cell_type": "code",
      "metadata": {
        "colab": {
          "base_uri": "https://localhost:8080/"
        },
        "id": "eaZUy9uJkJs0",
        "outputId": "41f69d40-5f87-4a56-8223-28bef08e3c1b"
      },
      "source": [
        "!/opt/bin/nvidia-smi"
      ],
      "execution_count": 12,
      "outputs": [
        {
          "output_type": "stream",
          "text": [
            "Tue Jun 22 06:18:11 2021       \n",
            "+-----------------------------------------------------------------------------+\n",
            "| NVIDIA-SMI 460.32.03    Driver Version: 460.32.03    CUDA Version: 11.2     |\n",
            "|-------------------------------+----------------------+----------------------+\n",
            "| GPU  Name        Persistence-M| Bus-Id        Disp.A | Volatile Uncorr. ECC |\n",
            "| Fan  Temp  Perf  Pwr:Usage/Cap|         Memory-Usage | GPU-Util  Compute M. |\n",
            "|                               |                      |               MIG M. |\n",
            "|===============================+======================+======================|\n",
            "|   0  Tesla T4            Off  | 00000000:00:04.0 Off |                    0 |\n",
            "| N/A   49C    P0    28W /  70W |   2778MiB / 15109MiB |      0%      Default |\n",
            "|                               |                      |                  N/A |\n",
            "+-------------------------------+----------------------+----------------------+\n",
            "                                                                               \n",
            "+-----------------------------------------------------------------------------+\n",
            "| Processes:                                                                  |\n",
            "|  GPU   GI   CI        PID   Type   Process name                  GPU Memory |\n",
            "|        ID   ID                                                   Usage      |\n",
            "|=============================================================================|\n",
            "+-----------------------------------------------------------------------------+\n"
          ],
          "name": "stdout"
        }
      ]
    },
    {
      "cell_type": "code",
      "metadata": {
        "id": "Y93fF6o_KzgM"
      },
      "source": [
        "import os\n",
        "os.chdir('/content/drive/MyDrive')\n",
        "\n",
        "!unzip dataset_face_0622.zip"
      ],
      "execution_count": null,
      "outputs": []
    },
    {
      "cell_type": "code",
      "metadata": {
        "colab": {
          "base_uri": "https://localhost:8080/"
        },
        "id": "CLM37Hcul1lT",
        "outputId": "93b90162-e007-4e80-cd35-796e73c7ac78"
      },
      "source": [
        "import os, datetime\n",
        "os.chdir('/content/drive/MyDrive')\n",
        "%load_ext tensorboard\n",
        "\n",
        "import tensorflow as tf\n",
        "from tensorflow.keras.applications import MobileNetV2\n",
        "from tensorflow.keras.models import Model\n",
        "from tensorflow.keras import layers\n",
        "from tensorflow.keras import losses\n",
        "from tensorflow.keras import optimizers\n",
        "from tensorflow.keras.preprocessing.image import ImageDataGenerator\n",
        "from tensorflow.keras.applications.mobilenet_v2 import preprocess_input\n",
        "from tensorflow.keras import callbacks\n",
        "import os\n",
        "import numpy as np\n",
        "\n",
        "logdir = os.path.join(\"my_train_log\", datetime.datetime.now().strftime(\"%Y%m%d-%H%M%S\"))\n",
        "\n",
        "callbacks_list = [   \n",
        "    # callbacks.ModelCheckpoint(   \n",
        "    #     filepath='my_model.h5',   \n",
        "    #     monitor='val_loss',   \n",
        "    #     save_best_only=True, \n",
        "    # ), \n",
        "    callbacks.TensorBoard(\n",
        "        log_dir = logdir,\n",
        "    )\n",
        "]\n",
        "\n",
        "# 设置GPU显存\n",
        "config = tf.compat.v1.ConfigProto(allow_soft_placement=True)\n",
        "#config.gpu_options.per_process_gpu_memory_fraction = 0.8\n",
        "tf.compat.v1.keras.backend.set_session(tf.compat.v1.Session(config=config))\n",
        "\n",
        "img_shape = (128, 128)\n",
        "train_dir = 'dataset_face_shuffle/train'\n",
        "validation_dir = 'dataset_face_shuffle/validation'\n",
        "\n",
        "#将训练数据进行增强\n",
        "train_datagen = ImageDataGenerator(\n",
        "    preprocessing_function=preprocess_input,\n",
        "    rotation_range=30,  #图像随机旋转的角度范围\n",
        "    #width_shift_range=0.2,  #图像在水平或垂直方向上平移的范围（相对于高度或宽度的比例）\n",
        "    #height_shift_range=0.2,\n",
        "    zoom_range=0.1,  #随机缩放的范围\n",
        "    horizontal_flip=True,  #随机将一半图像水平翻转\n",
        "    vertical_flip=True,     #随机垂直翻转\n",
        "    fill_mode='nearest',  #填充新创建的像素\n",
        ")\n",
        "\n",
        "#将验证数据进行轻度的增强\n",
        "validation_datagen = ImageDataGenerator(\n",
        "    preprocessing_function = preprocess_input,\n",
        "    #rotation_range=20,\n",
        "    vertical_flip=True,\n",
        "    horizontal_flip=True\n",
        ")\n",
        "\n",
        "\n",
        "#使用Python生成器\n",
        "train_generator = train_datagen.flow_from_directory(\n",
        "    train_dir,\n",
        "    target_size = img_shape, \n",
        "    batch_size = 32,  #每个批量中包含32个样本\n",
        "    class_mode ='categorical' \n",
        ")\n",
        "\n",
        "validation_generator = validation_datagen.flow_from_directory(\n",
        "    validation_dir,\n",
        "    target_size = img_shape, \n",
        "    batch_size = 16,\n",
        "    class_mode = 'categorical'\n",
        ")\n",
        "\n",
        "\n",
        "base_model = MobileNetV2(input_shape=(128,128,3), include_top=False,\n",
        "                    weights='imagenet')\n",
        "\n",
        "x = base_model.output\n",
        "x = layers.GlobalAveragePooling2D()(x)\n",
        "x = layers.Dropout(0.2)(x)\n",
        "\n",
        "predictions = layers.Dense(2, name='Logits')(x)\n",
        "\n",
        "model = Model(inputs=base_model.input, outputs=predictions)\n",
        "\n",
        "# for i, layer in enumerate(model.layers):\n",
        "#    print(i, layer.trainable, layer.name)\n",
        "\n",
        "#print(model.summary())\n",
        "\n",
        "\n",
        "model.compile(optimizer = optimizers.Adam(learning_rate=0.0005),\n",
        "                loss = losses.CategoricalCrossentropy(from_logits=True),\n",
        "                metrics=['acc'])\n",
        "\n",
        "history=model.fit(train_generator,\n",
        "          steps_per_epoch=92,\n",
        "          epochs=35,\n",
        "          validation_data=validation_generator,\n",
        "          validation_steps=46,\n",
        "          callbacks=callbacks_list)\n",
        "\n",
        "#get_tf_model_proto(model)  #保存成pb文件\n",
        "model.save('FR_classify_1.h5')\n",
        "\n",
        "\n",
        "\n",
        "\n"
      ],
      "execution_count": null,
      "outputs": [
        {
          "output_type": "stream",
          "text": [
            "The tensorboard extension is already loaded. To reload it, use:\n",
            "  %reload_ext tensorboard\n",
            "Found 2950 images belonging to 2 classes.\n",
            "Found 736 images belonging to 2 classes.\n"
          ],
          "name": "stdout"
        },
        {
          "output_type": "stream",
          "text": [
            "/usr/local/lib/python3.7/dist-packages/tensorflow/python/keras/utils/generic_utils.py:497: CustomMaskWarning: Custom mask layers require a config and must override get_config. When loading, the custom mask layer must be passed to the custom_objects argument.\n",
            "  category=CustomMaskWarning)\n"
          ],
          "name": "stderr"
        },
        {
          "output_type": "stream",
          "text": [
            "Epoch 1/35\n",
            "92/92 [==============================] - 21s 194ms/step - loss: 0.7259 - acc: 0.6532 - val_loss: 0.8671 - val_acc: 0.6399\n",
            "Epoch 2/35\n",
            "92/92 [==============================] - 16s 176ms/step - loss: 0.4686 - acc: 0.7779 - val_loss: 0.6281 - val_acc: 0.7812\n",
            "Epoch 3/35\n",
            "92/92 [==============================] - 16s 176ms/step - loss: 0.4072 - acc: 0.8194 - val_loss: 0.6231 - val_acc: 0.7785\n",
            "Epoch 4/35\n",
            "92/92 [==============================] - 16s 173ms/step - loss: 0.3804 - acc: 0.8324 - val_loss: 0.6641 - val_acc: 0.7962\n",
            "Epoch 5/35\n",
            "92/92 [==============================] - 16s 174ms/step - loss: 0.3609 - acc: 0.8458 - val_loss: 0.8635 - val_acc: 0.7717\n",
            "Epoch 6/35\n",
            "92/92 [==============================] - 16s 176ms/step - loss: 0.3420 - acc: 0.8520 - val_loss: 0.5573 - val_acc: 0.8573\n",
            "Epoch 7/35\n",
            "92/92 [==============================] - 16s 174ms/step - loss: 0.3207 - acc: 0.8667 - val_loss: 0.8767 - val_acc: 0.7704\n",
            "Epoch 8/35\n",
            "92/92 [==============================] - 16s 174ms/step - loss: 0.3214 - acc: 0.8663 - val_loss: 0.8970 - val_acc: 0.7894\n",
            "Epoch 9/35\n",
            "92/92 [==============================] - 16s 175ms/step - loss: 0.3060 - acc: 0.8708 - val_loss: 1.0967 - val_acc: 0.7812\n",
            "Epoch 10/35\n",
            "92/92 [==============================] - 16s 176ms/step - loss: 0.3195 - acc: 0.8684 - val_loss: 1.6850 - val_acc: 0.7215\n",
            "Epoch 11/35\n",
            "92/92 [==============================] - 16s 174ms/step - loss: 0.3110 - acc: 0.8698 - val_loss: 2.2374 - val_acc: 0.6304\n",
            "Epoch 12/35\n",
            "92/92 [==============================] - 16s 175ms/step - loss: 0.2975 - acc: 0.8711 - val_loss: 2.7700 - val_acc: 0.5910\n",
            "Epoch 13/35\n",
            "92/92 [==============================] - 16s 174ms/step - loss: 0.2922 - acc: 0.8831 - val_loss: 1.7201 - val_acc: 0.6997\n",
            "Epoch 14/35\n",
            "92/92 [==============================] - 16s 176ms/step - loss: 0.2674 - acc: 0.8838 - val_loss: 1.5133 - val_acc: 0.7514\n",
            "Epoch 15/35\n",
            "92/92 [==============================] - 16s 176ms/step - loss: 0.2923 - acc: 0.8807 - val_loss: 1.1009 - val_acc: 0.7541\n",
            "Epoch 16/35\n",
            "92/92 [==============================] - 16s 176ms/step - loss: 0.2697 - acc: 0.8920 - val_loss: 0.9737 - val_acc: 0.8179\n",
            "Epoch 17/35\n",
            "92/92 [==============================] - 16s 174ms/step - loss: 0.2641 - acc: 0.8931 - val_loss: 0.7508 - val_acc: 0.8492\n",
            "Epoch 18/35\n",
            "92/92 [==============================] - 16s 177ms/step - loss: 0.2623 - acc: 0.8982 - val_loss: 0.9199 - val_acc: 0.7908\n",
            "Epoch 19/35\n",
            "92/92 [==============================] - 16s 174ms/step - loss: 0.2509 - acc: 0.8958 - val_loss: 0.6763 - val_acc: 0.8342\n",
            "Epoch 20/35\n",
            "92/92 [==============================] - 16s 175ms/step - loss: 0.2779 - acc: 0.8838 - val_loss: 0.7583 - val_acc: 0.7812\n",
            "Epoch 21/35\n",
            "92/92 [==============================] - 16s 177ms/step - loss: 0.2596 - acc: 0.8951 - val_loss: 1.0752 - val_acc: 0.7908\n",
            "Epoch 22/35\n",
            "92/92 [==============================] - 16s 175ms/step - loss: 0.2579 - acc: 0.9016 - val_loss: 0.7514 - val_acc: 0.8356\n",
            "Epoch 23/35\n",
            "92/92 [==============================] - 16s 176ms/step - loss: 0.2435 - acc: 0.8996 - val_loss: 0.9798 - val_acc: 0.7948\n",
            "Epoch 24/35\n",
            "92/92 [==============================] - 16s 174ms/step - loss: 0.2316 - acc: 0.9040 - val_loss: 0.6724 - val_acc: 0.8438\n",
            "Epoch 25/35\n",
            "92/92 [==============================] - 16s 176ms/step - loss: 0.2406 - acc: 0.9020 - val_loss: 0.8376 - val_acc: 0.8342\n",
            "Epoch 26/35\n",
            "92/92 [==============================] - 16s 174ms/step - loss: 0.2275 - acc: 0.9071 - val_loss: 0.9467 - val_acc: 0.8356\n",
            "Epoch 27/35\n",
            "92/92 [==============================] - 16s 174ms/step - loss: 0.2320 - acc: 0.9006 - val_loss: 0.6214 - val_acc: 0.8370\n",
            "Epoch 28/35\n",
            "92/92 [==============================] - 16s 175ms/step - loss: 0.2229 - acc: 0.9085 - val_loss: 0.5658 - val_acc: 0.8424\n",
            "Epoch 29/35\n",
            "92/92 [==============================] - 16s 175ms/step - loss: 0.2509 - acc: 0.8910 - val_loss: 0.4912 - val_acc: 0.8845\n",
            "Epoch 30/35\n",
            "92/92 [==============================] - 16s 177ms/step - loss: 0.2313 - acc: 0.9123 - val_loss: 0.5600 - val_acc: 0.8465\n",
            "Epoch 31/35\n",
            "92/92 [==============================] - 16s 175ms/step - loss: 0.2370 - acc: 0.9030 - val_loss: 0.6841 - val_acc: 0.8438\n",
            "Epoch 32/35\n",
            "92/92 [==============================] - 16s 176ms/step - loss: 0.2242 - acc: 0.9075 - val_loss: 0.7738 - val_acc: 0.8397\n",
            "Epoch 33/35\n",
            "92/92 [==============================] - 16s 177ms/step - loss: 0.2282 - acc: 0.9095 - val_loss: 0.5223 - val_acc: 0.8736\n",
            "Epoch 34/35\n",
            "92/92 [==============================] - 16s 177ms/step - loss: 0.2078 - acc: 0.9167 - val_loss: 0.5778 - val_acc: 0.8614\n",
            "Epoch 35/35\n",
            "92/92 [==============================] - 16s 177ms/step - loss: 0.2059 - acc: 0.9150 - val_loss: 0.7604 - val_acc: 0.8573\n"
          ],
          "name": "stdout"
        }
      ]
    },
    {
      "cell_type": "code",
      "metadata": {
        "id": "ZN8CNGqX5noC"
      },
      "source": [
        "import os\n",
        "os.chdir('/content/drive/MyDrive')\n",
        "#%reload_ext tensorboard\n",
        "%tensorboard --logdir my_train_log"
      ],
      "execution_count": null,
      "outputs": []
    }
  ]
}